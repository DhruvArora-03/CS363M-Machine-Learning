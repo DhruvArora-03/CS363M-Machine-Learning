{
 "cells": [
  {
   "cell_type": "markdown",
   "metadata": {},
   "source": [
    "#### This assignment may be worked individually or in pairs. Enter your name/s here:\n",
    "    "
   ]
  },
  {
   "cell_type": "code",
   "execution_count": 131,
   "metadata": {
    "collapsed": true
   },
   "outputs": [],
   "source": [
    "# Dhruv Arora - da32895"
   ]
  },
  {
   "cell_type": "markdown",
   "metadata": {
    "collapsed": true
   },
   "source": [
    "# Assignment 2: Decision Trees\n",
    "\n",
    "In this assignment we'll implement the Decision Tree algorithm to classify patients as either having or not having diabetic retinopathy. For this task we'll be using the Diabetic Retinopathy data set, which contains features from the Messidor image set to predict whether an image contains signs of diabetic retinopathy or not. This dataset has `1150` records and `20` attributes (some categorical, some continuous). You can find additional details about the dataset [here](http://archive.ics.uci.edu/ml/datasets/Diabetic+Retinopathy+Debrecen+Data+Set)."
   ]
  },
  {
   "cell_type": "markdown",
   "metadata": {},
   "source": [
    "Attribute Information:\n",
    "\n",
    "0) The binary result of quality assessment. 0 = bad quality 1 = sufficient quality.\n",
    "\n",
    "1) The binary result of pre-screening, where 1 indicates severe retinal abnormality and 0 its lack. \n",
    "\n",
    "2-7) The results of MA detection. Each feature value stand for the number of MAs found at the confidence levels alpha = 0.5, . . . , 1, respectively. \n",
    "\n",
    "8-15) contain the same information as 2-7) for exudates. However, as exudates are represented by a set of points rather than the number of pixels constructing the lesions, these features are normalized by dividing the \n",
    "number of lesions with the diameter of the ROI to compensate different image sizes. \n",
    "\n",
    "16) The euclidean distance of the center of the macula and the center of the optic disc to provide important information regarding the patient's condition. This feature is also normalized with the diameter of the ROI.\n",
    "\n",
    "17) The diameter of the optic disc. \n",
    "\n",
    "18) The binary result of the AM/FM-based classification.\n",
    "\n",
    "19) Class label. 1 = contains signs of Diabetic Retinopathy, 0 = no signs of Diabetic Retinopathy."
   ]
  },
  {
   "cell_type": "markdown",
   "metadata": {},
   "source": [
    "#### Implementation: \n",
    "The function prototypes are given to you, please don't change those. You can add additional helper functions if needed. \n",
    "\n",
    "*Suggestion:* The dataset is substantially big, for the purpose of easy debugging, work with a subset of the data and test your decision tree implementation on that.\n",
    "\n",
    "#### Notes:\n",
    "Parts of this assignment will be **autograded** so a couple of caveats :-\n",
    "- Entropy is calculated using log with base 2, `math.log2(x)`.\n",
    "- For continuous features ensure that the threshold value lies exactly between 2 values. For example, if for feature 2 the best split occurs between 10 and 15 then the threshold value will be set as 12.5. For binary features [0/1] the threshold value will be 0.5.\n",
    "- All values < `thresh_val` go to the left child and all values >= `thresh_val` go to the right child."
   ]
  },
  {
   "cell_type": "code",
   "execution_count": 132,
   "metadata": {
    "collapsed": true
   },
   "outputs": [],
   "source": [
    "# Standard Headers\n",
    "# You are welcome to add additional headers if you wish\n",
    "# EXCEPT for scikit-learn... You may NOT use scikit-learn for this assignment!\n",
    "import pandas as pd\n",
    "import numpy as np\n",
    "from math import log2"
   ]
  },
  {
   "cell_type": "code",
   "execution_count": 133,
   "metadata": {
    "collapsed": true
   },
   "outputs": [],
   "source": [
    "class DataPoint:\n",
    "    def __str__(self):\n",
    "        return \"< \" + str(self.label) + \": \" + str(self.features) + \" >\"\n",
    "    def __init__(self, label, features):\n",
    "        self.label = label # the classification label of this data point\n",
    "        self.features = features"
   ]
  },
  {
   "cell_type": "markdown",
   "metadata": {},
   "source": [
    "Q1. Read data from a CSV file. Put it into a list of `DataPoints`."
   ]
  },
  {
   "cell_type": "code",
   "execution_count": 134,
   "metadata": {
    "collapsed": true
   },
   "outputs": [],
   "source": [
    "def get_data(filename):\n",
    "    data = []\n",
    "    \n",
    "    # read the file and parse the data\n",
    "    with open(filename, 'r') as f:\n",
    "      for line in f:\n",
    "        # remove the newline character\n",
    "        if (line[-1] == '\\n'):\n",
    "           line = line[:-1]\n",
    "\n",
    "        # split the line into a list of floats\n",
    "        tokenized = line.split(',')\n",
    "        tokenized = list(map(float, tokenized))\n",
    "\n",
    "        # create DataPoint\n",
    "        data.append(DataPoint(tokenized[-1], tokenized[:-1]))\n",
    "\n",
    "    return data"
   ]
  },
  {
   "cell_type": "code",
   "execution_count": 135,
   "metadata": {
    "collapsed": true
   },
   "outputs": [],
   "source": [
    "class TreeNode:\n",
    "    is_leaf = True          # boolean variable to check if the node is a leaf\n",
    "    feature_idx = None      # index that identifies the feature\n",
    "    thresh_val = None       # threshold value that splits the node\n",
    "    prediction = None       # prediction class (only valid for leaf nodes)\n",
    "    left_child = None       # left TreeNode (all values < thresh_val)\n",
    "    right_child = None      # right TreeNode (all values >= thresh_val)\n",
    "    \n",
    "    def printTree(self, level=0):    # for debugging purposes\n",
    "        if self.is_leaf:\n",
    "            print ('-'*level + 'Leaf Node:      predicts ' + str(self.prediction))\n",
    "        else:\n",
    "            print ('-'*level + 'Internal Node:  splits on feature ' \n",
    "                   + str(self.feature_idx) + ' with threshold ' + str(self.thresh_val))\n",
    "            self.left_child.printTree(level+1)\n",
    "            self.right_child.printTree(level+1)"
   ]
  },
  {
   "cell_type": "markdown",
   "metadata": {},
   "source": [
    "Q2. Implement the function `make_prediction` that takes the decision tree root and a `DataPoint` instance and returns the prediction label."
   ]
  },
  {
   "cell_type": "code",
   "execution_count": 136,
   "metadata": {
    "collapsed": true
   },
   "outputs": [],
   "source": [
    "def prediction_helper(root, dp):\n",
    "    # base case\n",
    "    if root.is_leaf:\n",
    "        return root.prediction\n",
    "    \n",
    "    # check left or right, and go\n",
    "    f_val = dp.features[root.feature_idx]\n",
    "\n",
    "    if f_val < root.thresh_val:\n",
    "        return prediction_helper(root.left_child, dp)\n",
    "    else:\n",
    "        return prediction_helper(root.right_child, dp)\n",
    "\n",
    "def make_prediction(tree_root, data_point):\n",
    "    # use recursive helper\n",
    "    return prediction_helper(tree_root, data_point)"
   ]
  },
  {
   "cell_type": "markdown",
   "metadata": {},
   "source": [
    "Q3. Implement the function `split_dataset` given an input data set, a `feature_idx` and the `threshold` for the feature. `left_split` will have all values < `threshold` and `right_split` will have all values >= `threshold`."
   ]
  },
  {
   "cell_type": "code",
   "execution_count": 137,
   "metadata": {
    "collapsed": true
   },
   "outputs": [],
   "source": [
    "def split_dataset(data, feature_idx, threshold):\n",
    "    left_split = []\n",
    "    right_split = []\n",
    "\n",
    "    # for each check against threshold\n",
    "    for d in data:\n",
    "        if d.features[feature_idx] < threshold:\n",
    "            left_split.append(d)\n",
    "        else:\n",
    "            right_split.append(d)\n",
    "\n",
    "    return (left_split, right_split)"
   ]
  },
  {
   "cell_type": "markdown",
   "metadata": {},
   "source": [
    "Q4. Implement the function `calc_entropy` to return the entropy of the input dataset."
   ]
  },
  {
   "cell_type": "code",
   "execution_count": 138,
   "metadata": {
    "collapsed": true
   },
   "outputs": [],
   "source": [
    "# returns counts of 0s and 1s in data's labels\n",
    "def get_value_counts(data):\n",
    "    counts = dict()\n",
    "    counts[0] = 0\n",
    "    counts[1] = 0\n",
    "\n",
    "    for d in data:\n",
    "        counts[d.label] += 1\n",
    "\n",
    "    return counts\n",
    "\n",
    "def calc_entropy(data):\n",
    "    entropy = 0.0\n",
    "    counts = get_value_counts(data)\n",
    "    total = counts[0] + counts[1]\n",
    "    a = counts[0] / total # Pi, i=0\n",
    "    b = counts[1] / total # Pi, i=1\n",
    "\n",
    "    if a == 0 or b == 0:\n",
    "        return 0\n",
    "    \n",
    "    # following formula\n",
    "    entropy += -a * log2(a)\n",
    "    entropy += -b * log2(b)\n",
    "\n",
    "    return entropy"
   ]
  },
  {
   "cell_type": "markdown",
   "metadata": {},
   "source": [
    "Q5. Implement the function `calc_best_threshold` which returns the best information gain and the corresponding threshold value for one feature at `feature_idx`."
   ]
  },
  {
   "cell_type": "code",
   "execution_count": 139,
   "metadata": {
    "collapsed": true
   },
   "outputs": [],
   "source": [
    "def calc_best_threshold(data, feature_idx):\n",
    "    best_info_gain = 0.0\n",
    "    best_thresh = None\n",
    "    \n",
    "    # sort by the feature\n",
    "    d = sorted(data, key=lambda row: row.features[feature_idx])\n",
    "    entropy_total = calc_entropy(data)\n",
    "\n",
    "    # go through all possible thresholds\n",
    "    for i in range(len(d) - 1):\n",
    "        # skip unnecessary thresholds\n",
    "        prev, next = d[i].features[feature_idx], d[i+1].features[feature_idx]\n",
    "        if prev == next:\n",
    "            continue\n",
    "\n",
    "        thresh = (prev + next) / 2\n",
    "        left_set, right_set = split_dataset(data, feature_idx, thresh)\n",
    "\n",
    "        left_entropy = calc_entropy(left_set)\n",
    "        left_weight = len(left_set) / len(data)\n",
    "\n",
    "        right_entropy = calc_entropy(right_set)\n",
    "        right_weight = len(right_set) / len(data)\n",
    "        \n",
    "        entropy_split = (left_weight * left_entropy) + (right_weight * right_entropy)\n",
    "\n",
    "        # compare split to before split and best split so far\n",
    "        gain = entropy_total - entropy_split\n",
    "        if gain > best_info_gain:\n",
    "            best_info_gain = gain\n",
    "            best_thresh = thresh\n",
    "\n",
    "    return (best_info_gain, best_thresh)"
   ]
  },
  {
   "cell_type": "markdown",
   "metadata": {},
   "source": [
    "Q6. Implement the function `identify_best_split` which returns the best feature to split on for an input dataset, and also returns the corresponding threshold value."
   ]
  },
  {
   "cell_type": "code",
   "execution_count": 140,
   "metadata": {
    "collapsed": true
   },
   "outputs": [],
   "source": [
    "def identify_best_split(data):\n",
    "    if len(data) < 2:\n",
    "        return (None, None)\n",
    "    best_feature = None\n",
    "    best_thresh = None\n",
    "    best_info_gain = -1\n",
    "\n",
    "    # find which feature has the best gain @ the best threshold\n",
    "    for f_idx in range(len(data[0].features)):\n",
    "        gain, thresh = calc_best_threshold(data, f_idx)\n",
    "        if gain > best_info_gain:\n",
    "            best_feature = f_idx\n",
    "            best_thresh = thresh\n",
    "            best_info_gain = gain\n",
    "\n",
    "    return (best_feature, best_thresh)"
   ]
  },
  {
   "cell_type": "markdown",
   "metadata": {},
   "source": [
    "Q7. Implement the function `create_leaf_node` which returns a `TreeNode` with `is_leaf=True` and `prediction` set to whichever classification occurs most in the dataset at this node."
   ]
  },
  {
   "cell_type": "code",
   "execution_count": 141,
   "metadata": {
    "collapsed": true
   },
   "outputs": [],
   "source": [
    "def create_leaf_node(data):\n",
    "    counts = get_value_counts(data)\n",
    "\n",
    "    node = TreeNode()\n",
    "    node.is_leaf = True\n",
    "    # prediction is the majority class\n",
    "    node.prediction = 0 if counts[0] > counts[1] else 1\n",
    "\n",
    "    return node"
   ]
  },
  {
   "cell_type": "markdown",
   "metadata": {},
   "source": [
    "Q8. Implement the `create_decision_tree` function. `max_levels` denotes the maximum height of the tree (for example if `max_levels = 1` then the decision tree will only contain the leaf node at the root. [Hint: this is where the recursion happens.]"
   ]
  },
  {
   "cell_type": "code",
   "execution_count": 142,
   "metadata": {
    "collapsed": true
   },
   "outputs": [],
   "source": [
    "def create_dt_helper(data, levels):\n",
    "    # base case\n",
    "    if levels <= 1:\n",
    "        return create_leaf_node(data)\n",
    "\n",
    "    # if pure, return leaf\n",
    "    if calc_entropy(data) == 0:\n",
    "        return create_leaf_node(data)\n",
    "\n",
    "    # greedy --> try best split every time\n",
    "    f_idx, thresh = identify_best_split(data)\n",
    "\n",
    "    # create internal node\n",
    "    root = TreeNode()\n",
    "    root.is_leaf = False\n",
    "    root.feature_idx = f_idx\n",
    "    root.thresh_val = thresh\n",
    "    \n",
    "    left_set, right_set = split_dataset(data, f_idx, thresh)\n",
    "\n",
    "    # recursively create left and right children\n",
    "    root.left_child = create_dt_helper(left_set, levels - 1)\n",
    "    root.right_child = create_dt_helper(right_set, levels - 1)\n",
    "\n",
    "    return root\n",
    "\n",
    "def create_decision_tree(data, max_levels):\n",
    "    # just in case\n",
    "    if max_levels < 1:\n",
    "        return None\n",
    "\n",
    "    return create_dt_helper(data, max_levels)"
   ]
  },
  {
   "cell_type": "markdown",
   "metadata": {},
   "source": [
    "Q9. Given a test set, the function `calc_accuracy` returns the accuracy of the classifier. You'll use the `make_prediction` function for this."
   ]
  },
  {
   "cell_type": "code",
   "execution_count": 143,
   "metadata": {
    "collapsed": true
   },
   "outputs": [],
   "source": [
    "# calc percentage of correct test results\n",
    "def accuracy_helper(root, test_set):\n",
    "    correct = 0.0\n",
    "    \n",
    "    for test in test_set:\n",
    "        prediction = make_prediction(root, test)\n",
    "        if prediction == test.label:\n",
    "            correct += 1\n",
    "    \n",
    "    return correct / len(test_set)\n",
    "\n",
    "# 5-fold cross validation\n",
    "def calc_accuracy(tree_root, data):\n",
    "    fold_len = int(len(data) / 5)\n",
    "    total_accuracy = 0.0\n",
    "\n",
    "    # each fold\n",
    "    for fold in range(5):\n",
    "        print('STARTING FOLD %d' % fold)\n",
    "\n",
    "        # define test and training sets\n",
    "        test_set = data[fold_len * fold: fold_len * (fold + 1)]\n",
    "        training_set = [x for x in data if x not in test_set]\n",
    "\n",
    "        # create tree and calc accuracy\n",
    "        root = create_decision_tree(training_set, 10)\n",
    "        accuracy = accuracy_helper(root, test_set)\n",
    "        total_accuracy += accuracy\n",
    "        print('Fold %d had an accuracy of %f' % (fold, accuracy))\n",
    "\n",
    "\n",
    "    return total_accuracy / 5.0"
   ]
  },
  {
   "cell_type": "markdown",
   "metadata": {},
   "source": [
    "Q10. Keeping the `max_levels` parameter as 10, use 5-fold cross validation to measure the accuracy of the model. Print the accuracy of the model."
   ]
  },
  {
   "cell_type": "code",
   "execution_count": 144,
   "metadata": {
    "collapsed": true,
    "scrolled": true
   },
   "outputs": [
    {
     "name": "stdout",
     "output_type": "stream",
     "text": [
      "Time taken: 8.191265106201172\n",
      "STARTING FOLD 0\n",
      "Fold 0 had an accuracy of 0.639130\n",
      "STARTING FOLD 1\n",
      "Fold 1 had an accuracy of 0.630435\n",
      "STARTING FOLD 2\n",
      "Fold 2 had an accuracy of 0.669565\n",
      "STARTING FOLD 3\n",
      "Fold 3 had an accuracy of 0.639130\n",
      "STARTING FOLD 4\n",
      "Fold 4 had an accuracy of 0.643478\n",
      "The total accuracy of the tree is  64.43478260869566\n"
     ]
    }
   ],
   "source": [
    "import time\n",
    "\n",
    "d = get_data(\"messidor_features.txt\")\n",
    "\n",
    "# the timer is just for fun! you will NOT be graded on runtime\n",
    "start = time.time()\n",
    "\n",
    "# create the decision tree\n",
    "tree = create_decision_tree(d, 10)\n",
    "\n",
    "end = time.time()\n",
    "print ('Time taken:', end - start)\n",
    "\n",
    "# calculate the accuracy of the tree\n",
    "accuracy = calc_accuracy(tree, d)\n",
    "print ('The total accuracy of the tree is ', str(accuracy * 100.0))\n",
    "# tree.printTree()"
   ]
  }
 ],
 "metadata": {
  "kernelspec": {
   "display_name": "base",
   "language": "python",
   "name": "python3"
  },
  "language_info": {
   "codemirror_mode": {
    "name": "ipython",
    "version": 3
   },
   "file_extension": ".py",
   "mimetype": "text/x-python",
   "name": "python",
   "nbconvert_exporter": "python",
   "pygments_lexer": "ipython3",
   "version": "3.9.13"
  },
  "vscode": {
   "interpreter": {
    "hash": "2449f0db9ce51b43a877dba25a57803626ed2ea325737c42824a420a9d17eece"
   }
  }
 },
 "nbformat": 4,
 "nbformat_minor": 2
}
